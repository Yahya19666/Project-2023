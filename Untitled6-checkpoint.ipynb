{
 "cells": [
  {
   "cell_type": "code",
   "execution_count": 1,
   "id": "22baf403",
   "metadata": {},
   "outputs": [],
   "source": [
    "import pandas as pd\n",
    "import matplotlib.pyplot as plt\n",
    "import numpy as np\n",
    "import seaborn as sns"
   ]
  },
  {
   "cell_type": "code",
   "execution_count": 3,
   "id": "1c81756a",
   "metadata": {},
   "outputs": [],
   "source": [
    "dataset =pd.read_excel('Comprehensive.xlsx')"
   ]
  },
  {
   "cell_type": "code",
   "execution_count": 21,
   "id": "0f38216f",
   "metadata": {},
   "outputs": [],
   "source": [
    "dataset = pd.ExcelFile('Comprehensive.xlsx')\n",
    "R1 = pd.read_excel(xls, 'Whole Riyadh')\n",
    "ER = pd.read_excel(xls, 'East')\n",
    "SR= pd.read_excel(xls, 'South')\n",
    "NR= pd.read_excel(xls, 'North')\n",
    "J= pd.read_excel(xls, 'Jeddah')\n",
    "\n"
   ]
  },
  {
   "cell_type": "code",
   "execution_count": 16,
   "id": "a4396ac7",
   "metadata": {},
   "outputs": [
    {
     "data": {
      "text/html": [
       "<div>\n",
       "<style scoped>\n",
       "    .dataframe tbody tr th:only-of-type {\n",
       "        vertical-align: middle;\n",
       "    }\n",
       "\n",
       "    .dataframe tbody tr th {\n",
       "        vertical-align: top;\n",
       "    }\n",
       "\n",
       "    .dataframe thead th {\n",
       "        text-align: right;\n",
       "    }\n",
       "</style>\n",
       "<table border=\"1\" class=\"dataframe\">\n",
       "  <thead>\n",
       "    <tr style=\"text-align: right;\">\n",
       "      <th></th>\n",
       "      <th>id</th>\n",
       "      <th>object</th>\n",
       "      <th>global_score</th>\n",
       "      <th>internal_review_id</th>\n",
       "      <th>is_user_local_guide</th>\n",
       "      <th>lang</th>\n",
       "      <th>place_id</th>\n",
       "      <th>published_at_datetime</th>\n",
       "      <th>Time</th>\n",
       "      <th>response_from_owner</th>\n",
       "      <th>score</th>\n",
       "      <th>text</th>\n",
       "      <th>total_likes</th>\n",
       "      <th>total_reviews</th>\n",
       "      <th>user_link</th>\n",
       "      <th>user_internal_id</th>\n",
       "      <th>user_reviews_count</th>\n",
       "    </tr>\n",
       "  </thead>\n",
       "  <tbody>\n",
       "    <tr>\n",
       "      <th>0</th>\n",
       "      <td>324125</td>\n",
       "      <td>result</td>\n",
       "      <td>2.3</td>\n",
       "      <td>ChZDSUhNMG9nS0VJQ0FnSUQ2eFBMZkJ3EAE</td>\n",
       "      <td>f</td>\n",
       "      <td>en</td>\n",
       "      <td>ChIJa51a2HvlLj4R_dFW-vGBzeQ</td>\n",
       "      <td>2021-09-20</td>\n",
       "      <td>21:05:49</td>\n",
       "      <td>NaN</td>\n",
       "      <td>1</td>\n",
       "      <td>The pharmacist and the assistant don't have go...</td>\n",
       "      <td>0</td>\n",
       "      <td>22</td>\n",
       "      <td>https://www.google.com/maps/contrib/1042704488...</td>\n",
       "      <td>1.042704e+20</td>\n",
       "      <td>3</td>\n",
       "    </tr>\n",
       "    <tr>\n",
       "      <th>1</th>\n",
       "      <td>324127</td>\n",
       "      <td>result</td>\n",
       "      <td>2.3</td>\n",
       "      <td>ChZDSUhNMG9nS0VJQ0FnSUMtOS1xQUlBEAE</td>\n",
       "      <td>f</td>\n",
       "      <td>ar</td>\n",
       "      <td>ChIJa51a2HvlLj4R_dFW-vGBzeQ</td>\n",
       "      <td>2022-11-16</td>\n",
       "      <td>09:44:00</td>\n",
       "      <td>NaN</td>\n",
       "      <td>3</td>\n",
       "      <td>(Translated by Google) Good people, the number...</td>\n",
       "      <td>1</td>\n",
       "      <td>22</td>\n",
       "      <td>https://www.google.com/maps/contrib/1129138329...</td>\n",
       "      <td>1.129138e+20</td>\n",
       "      <td>1</td>\n",
       "    </tr>\n",
       "    <tr>\n",
       "      <th>2</th>\n",
       "      <td>324128</td>\n",
       "      <td>result</td>\n",
       "      <td>2.3</td>\n",
       "      <td>ChdDSUhNMG9nS0VJQ0FnSURtd01TcHJBRRAB</td>\n",
       "      <td>f</td>\n",
       "      <td>ar</td>\n",
       "      <td>ChIJa51a2HvlLj4R_dFW-vGBzeQ</td>\n",
       "      <td>2022-01-15</td>\n",
       "      <td>10:09:26</td>\n",
       "      <td>NaN</td>\n",
       "      <td>1</td>\n",
       "      <td>(Translated by Google) The seller is not tactf...</td>\n",
       "      <td>2</td>\n",
       "      <td>22</td>\n",
       "      <td>https://www.google.com/maps/contrib/1146063482...</td>\n",
       "      <td>1.146063e+20</td>\n",
       "      <td>9</td>\n",
       "    </tr>\n",
       "    <tr>\n",
       "      <th>3</th>\n",
       "      <td>324129</td>\n",
       "      <td>result</td>\n",
       "      <td>2.3</td>\n",
       "      <td>ChZDSUhNMG9nS0VJQ0FnSUN1a2J2RFZBEAE</td>\n",
       "      <td>t</td>\n",
       "      <td>ar</td>\n",
       "      <td>ChIJa51a2HvlLj4R_dFW-vGBzeQ</td>\n",
       "      <td>2022-07-30</td>\n",
       "      <td>16:20:16</td>\n",
       "      <td>NaN</td>\n",
       "      <td>1</td>\n",
       "      <td>(Translated by Google) The worst pharmacy in d...</td>\n",
       "      <td>1</td>\n",
       "      <td>22</td>\n",
       "      <td>https://www.google.com/maps/contrib/1092780560...</td>\n",
       "      <td>1.092781e+20</td>\n",
       "      <td>129</td>\n",
       "    </tr>\n",
       "    <tr>\n",
       "      <th>4</th>\n",
       "      <td>324130</td>\n",
       "      <td>result</td>\n",
       "      <td>2.3</td>\n",
       "      <td>ChZDSUhNMG9nS0VJQ0FnSUNXcHNXMk53EAE</td>\n",
       "      <td>f</td>\n",
       "      <td>ar</td>\n",
       "      <td>ChIJa51a2HvlLj4R_dFW-vGBzeQ</td>\n",
       "      <td>2022-02-25</td>\n",
       "      <td>16:26:49</td>\n",
       "      <td>NaN</td>\n",
       "      <td>5</td>\n",
       "      <td>(Translated by Google) An affordable pharmacy,...</td>\n",
       "      <td>0</td>\n",
       "      <td>22</td>\n",
       "      <td>https://www.google.com/maps/contrib/1022561723...</td>\n",
       "      <td>1.022562e+20</td>\n",
       "      <td>1</td>\n",
       "    </tr>\n",
       "    <tr>\n",
       "      <th>...</th>\n",
       "      <td>...</td>\n",
       "      <td>...</td>\n",
       "      <td>...</td>\n",
       "      <td>...</td>\n",
       "      <td>...</td>\n",
       "      <td>...</td>\n",
       "      <td>...</td>\n",
       "      <td>...</td>\n",
       "      <td>...</td>\n",
       "      <td>...</td>\n",
       "      <td>...</td>\n",
       "      <td>...</td>\n",
       "      <td>...</td>\n",
       "      <td>...</td>\n",
       "      <td>...</td>\n",
       "      <td>...</td>\n",
       "      <td>...</td>\n",
       "    </tr>\n",
       "    <tr>\n",
       "      <th>8327</th>\n",
       "      <td>339962</td>\n",
       "      <td>result</td>\n",
       "      <td>4.8</td>\n",
       "      <td>ChdDSUhNMG9nS0VJQ0FnSURnX0l5eWhnRRAB</td>\n",
       "      <td>f</td>\n",
       "      <td>NaN</td>\n",
       "      <td>ChIJKWZ39qLiLj4ROqIaThgLms0</td>\n",
       "      <td>2018-04-23</td>\n",
       "      <td>17:31:49</td>\n",
       "      <td>NaN</td>\n",
       "      <td>2</td>\n",
       "      <td>NaN</td>\n",
       "      <td>0</td>\n",
       "      <td>18</td>\n",
       "      <td>https://www.google.com/maps/contrib/1033958978...</td>\n",
       "      <td>1.033959e+20</td>\n",
       "      <td>9</td>\n",
       "    </tr>\n",
       "    <tr>\n",
       "      <th>8328</th>\n",
       "      <td>339963</td>\n",
       "      <td>result</td>\n",
       "      <td>4.8</td>\n",
       "      <td>ChdDSUhNMG9nS0VJQ0FnSUQtNVlyb2dnRRAB</td>\n",
       "      <td>f</td>\n",
       "      <td>NaN</td>\n",
       "      <td>ChIJKWZ39qLiLj4ROqIaThgLms0</td>\n",
       "      <td>2022-12-05</td>\n",
       "      <td>08:27:09</td>\n",
       "      <td>(Translated by Google) We are pleased with you...</td>\n",
       "      <td>5</td>\n",
       "      <td>NaN</td>\n",
       "      <td>0</td>\n",
       "      <td>18</td>\n",
       "      <td>https://www.google.com/maps/contrib/1111727016...</td>\n",
       "      <td>1.111727e+20</td>\n",
       "      <td>13</td>\n",
       "    </tr>\n",
       "    <tr>\n",
       "      <th>8329</th>\n",
       "      <td>339964</td>\n",
       "      <td>result</td>\n",
       "      <td>4.8</td>\n",
       "      <td>ChZDSUhNMG9nS0VJQ0FnSURRcmV5akp3EAE</td>\n",
       "      <td>f</td>\n",
       "      <td>NaN</td>\n",
       "      <td>ChIJKWZ39qLiLj4ROqIaThgLms0</td>\n",
       "      <td>2017-04-02</td>\n",
       "      <td>11:49:24</td>\n",
       "      <td>NaN</td>\n",
       "      <td>5</td>\n",
       "      <td>NaN</td>\n",
       "      <td>0</td>\n",
       "      <td>18</td>\n",
       "      <td>https://www.google.com/maps/contrib/1064436276...</td>\n",
       "      <td>1.064436e+20</td>\n",
       "      <td>7</td>\n",
       "    </tr>\n",
       "    <tr>\n",
       "      <th>8330</th>\n",
       "      <td>339965</td>\n",
       "      <td>result</td>\n",
       "      <td>4.8</td>\n",
       "      <td>ChZDSUhNMG9nS0VJQ0FnSUR5dW9HNUVnEAE</td>\n",
       "      <td>f</td>\n",
       "      <td>NaN</td>\n",
       "      <td>ChIJKWZ39qLiLj4ROqIaThgLms0</td>\n",
       "      <td>2021-03-04</td>\n",
       "      <td>15:45:09</td>\n",
       "      <td>NaN</td>\n",
       "      <td>5</td>\n",
       "      <td>NaN</td>\n",
       "      <td>0</td>\n",
       "      <td>18</td>\n",
       "      <td>https://www.google.com/maps/contrib/1127520008...</td>\n",
       "      <td>1.127520e+20</td>\n",
       "      <td>0</td>\n",
       "    </tr>\n",
       "    <tr>\n",
       "      <th>8331</th>\n",
       "      <td>339966</td>\n",
       "      <td>result</td>\n",
       "      <td>4.8</td>\n",
       "      <td>ChZDSUhNMG9nS0VJQ0FnSURPc2FiWEFREAE</td>\n",
       "      <td>f</td>\n",
       "      <td>NaN</td>\n",
       "      <td>ChIJKWZ39qLiLj4ROqIaThgLms0</td>\n",
       "      <td>2022-07-07</td>\n",
       "      <td>22:55:29</td>\n",
       "      <td>(Translated by Google) We are very happy to se...</td>\n",
       "      <td>5</td>\n",
       "      <td>NaN</td>\n",
       "      <td>0</td>\n",
       "      <td>18</td>\n",
       "      <td>https://www.google.com/maps/contrib/1052295781...</td>\n",
       "      <td>1.052296e+20</td>\n",
       "      <td>26</td>\n",
       "    </tr>\n",
       "  </tbody>\n",
       "</table>\n",
       "<p>8332 rows × 17 columns</p>\n",
       "</div>"
      ],
      "text/plain": [
       "          id  object  global_score                    internal_review_id  \\\n",
       "0     324125  result           2.3   ChZDSUhNMG9nS0VJQ0FnSUQ2eFBMZkJ3EAE   \n",
       "1     324127  result           2.3   ChZDSUhNMG9nS0VJQ0FnSUMtOS1xQUlBEAE   \n",
       "2     324128  result           2.3  ChdDSUhNMG9nS0VJQ0FnSURtd01TcHJBRRAB   \n",
       "3     324129  result           2.3   ChZDSUhNMG9nS0VJQ0FnSUN1a2J2RFZBEAE   \n",
       "4     324130  result           2.3   ChZDSUhNMG9nS0VJQ0FnSUNXcHNXMk53EAE   \n",
       "...      ...     ...           ...                                   ...   \n",
       "8327  339962  result           4.8  ChdDSUhNMG9nS0VJQ0FnSURnX0l5eWhnRRAB   \n",
       "8328  339963  result           4.8  ChdDSUhNMG9nS0VJQ0FnSUQtNVlyb2dnRRAB   \n",
       "8329  339964  result           4.8   ChZDSUhNMG9nS0VJQ0FnSURRcmV5akp3EAE   \n",
       "8330  339965  result           4.8   ChZDSUhNMG9nS0VJQ0FnSUR5dW9HNUVnEAE   \n",
       "8331  339966  result           4.8   ChZDSUhNMG9nS0VJQ0FnSURPc2FiWEFREAE   \n",
       "\n",
       "     is_user_local_guide lang                     place_id  \\\n",
       "0                      f   en  ChIJa51a2HvlLj4R_dFW-vGBzeQ   \n",
       "1                      f   ar  ChIJa51a2HvlLj4R_dFW-vGBzeQ   \n",
       "2                      f   ar  ChIJa51a2HvlLj4R_dFW-vGBzeQ   \n",
       "3                      t   ar  ChIJa51a2HvlLj4R_dFW-vGBzeQ   \n",
       "4                      f   ar  ChIJa51a2HvlLj4R_dFW-vGBzeQ   \n",
       "...                  ...  ...                          ...   \n",
       "8327                   f  NaN  ChIJKWZ39qLiLj4ROqIaThgLms0   \n",
       "8328                   f  NaN  ChIJKWZ39qLiLj4ROqIaThgLms0   \n",
       "8329                   f  NaN  ChIJKWZ39qLiLj4ROqIaThgLms0   \n",
       "8330                   f  NaN  ChIJKWZ39qLiLj4ROqIaThgLms0   \n",
       "8331                   f  NaN  ChIJKWZ39qLiLj4ROqIaThgLms0   \n",
       "\n",
       "     published_at_datetime      Time  \\\n",
       "0               2021-09-20  21:05:49   \n",
       "1               2022-11-16  09:44:00   \n",
       "2               2022-01-15  10:09:26   \n",
       "3               2022-07-30  16:20:16   \n",
       "4               2022-02-25  16:26:49   \n",
       "...                    ...       ...   \n",
       "8327            2018-04-23  17:31:49   \n",
       "8328            2022-12-05  08:27:09   \n",
       "8329            2017-04-02  11:49:24   \n",
       "8330            2021-03-04  15:45:09   \n",
       "8331            2022-07-07  22:55:29   \n",
       "\n",
       "                                    response_from_owner  score  \\\n",
       "0                                                   NaN      1   \n",
       "1                                                   NaN      3   \n",
       "2                                                   NaN      1   \n",
       "3                                                   NaN      1   \n",
       "4                                                   NaN      5   \n",
       "...                                                 ...    ...   \n",
       "8327                                                NaN      2   \n",
       "8328  (Translated by Google) We are pleased with you...      5   \n",
       "8329                                                NaN      5   \n",
       "8330                                                NaN      5   \n",
       "8331  (Translated by Google) We are very happy to se...      5   \n",
       "\n",
       "                                                   text  total_likes  \\\n",
       "0     The pharmacist and the assistant don't have go...            0   \n",
       "1     (Translated by Google) Good people, the number...            1   \n",
       "2     (Translated by Google) The seller is not tactf...            2   \n",
       "3     (Translated by Google) The worst pharmacy in d...            1   \n",
       "4     (Translated by Google) An affordable pharmacy,...            0   \n",
       "...                                                 ...          ...   \n",
       "8327                                                NaN            0   \n",
       "8328                                                NaN            0   \n",
       "8329                                                NaN            0   \n",
       "8330                                                NaN            0   \n",
       "8331                                                NaN            0   \n",
       "\n",
       "      total_reviews                                          user_link  \\\n",
       "0                22  https://www.google.com/maps/contrib/1042704488...   \n",
       "1                22  https://www.google.com/maps/contrib/1129138329...   \n",
       "2                22  https://www.google.com/maps/contrib/1146063482...   \n",
       "3                22  https://www.google.com/maps/contrib/1092780560...   \n",
       "4                22  https://www.google.com/maps/contrib/1022561723...   \n",
       "...             ...                                                ...   \n",
       "8327             18  https://www.google.com/maps/contrib/1033958978...   \n",
       "8328             18  https://www.google.com/maps/contrib/1111727016...   \n",
       "8329             18  https://www.google.com/maps/contrib/1064436276...   \n",
       "8330             18  https://www.google.com/maps/contrib/1127520008...   \n",
       "8331             18  https://www.google.com/maps/contrib/1052295781...   \n",
       "\n",
       "      user_internal_id  user_reviews_count  \n",
       "0         1.042704e+20                   3  \n",
       "1         1.129138e+20                   1  \n",
       "2         1.146063e+20                   9  \n",
       "3         1.092781e+20                 129  \n",
       "4         1.022562e+20                   1  \n",
       "...                ...                 ...  \n",
       "8327      1.033959e+20                   9  \n",
       "8328      1.111727e+20                  13  \n",
       "8329      1.064436e+20                   7  \n",
       "8330      1.127520e+20                   0  \n",
       "8331      1.052296e+20                  26  \n",
       "\n",
       "[8332 rows x 17 columns]"
      ]
     },
     "execution_count": 16,
     "metadata": {},
     "output_type": "execute_result"
    }
   ],
   "source": [
    "NR"
   ]
  },
  {
   "cell_type": "code",
   "execution_count": 18,
   "id": "a93f1192",
   "metadata": {},
   "outputs": [
    {
     "data": {
      "text/plain": [
       "<pandas.io.excel._base.ExcelFile at 0x16838d42f40>"
      ]
     },
     "execution_count": 18,
     "metadata": {},
     "output_type": "execute_result"
    }
   ],
   "source": [
    "dataset"
   ]
  },
  {
   "cell_type": "code",
   "execution_count": null,
   "id": "9fc74e04",
   "metadata": {},
   "outputs": [],
   "source": [
    "WR"
   ]
  },
  {
   "cell_type": "code",
   "execution_count": 24,
   "id": "1a178a07",
   "metadata": {},
   "outputs": [],
   "source": [
    "import openpyxl as xl\n",
    "from pathlib import Path\n",
    "import pandas as pd\n",
    "import numpy as np\n",
    "import plotly.express as px\n",
    "import plotly.graph_objects as g"
   ]
  },
  {
   "cell_type": "code",
   "execution_count": 25,
   "id": "f20e6063",
   "metadata": {},
   "outputs": [],
   "source": [
    "f = Path.cwd().joinpath(\"Comprehensive.xlsx\")"
   ]
  },
  {
   "cell_type": "code",
   "execution_count": 26,
   "id": "85147af4",
   "metadata": {},
   "outputs": [
    {
     "data": {
      "text/plain": [
       "WindowsPath('C:/Users/yahya/Desktop/Python/Comprehensive.xlsx')"
      ]
     },
     "execution_count": 26,
     "metadata": {},
     "output_type": "execute_result"
    }
   ],
   "source": [
    "f"
   ]
  },
  {
   "cell_type": "code",
   "execution_count": 27,
   "id": "b685f13c",
   "metadata": {},
   "outputs": [],
   "source": [
    "import xlsxwriter"
   ]
  },
  {
   "cell_type": "code",
   "execution_count": 31,
   "id": "f7937b1f",
   "metadata": {},
   "outputs": [],
   "source": [
    "workbook = xlsxwriter.Workbook('Comprehensive.xlsx')"
   ]
  },
  {
   "cell_type": "code",
   "execution_count": 32,
   "id": "f78cf78d",
   "metadata": {},
   "outputs": [],
   "source": [
    "worksheet = workbook.add_worksheet()"
   ]
  },
  {
   "cell_type": "code",
   "execution_count": 33,
   "id": "1bf93758",
   "metadata": {},
   "outputs": [],
   "source": [
    "bold = workbook.add_format({'bold': True})"
   ]
  },
  {
   "cell_type": "code",
   "execution_count": 39,
   "id": "d5f33de7",
   "metadata": {},
   "outputs": [],
   "source": [
    " \n",
    "import plotly.graph_objs as go\n",
    "from plotly.offline import iplot, init_notebook_mode"
   ]
  },
  {
   "cell_type": "code",
   "execution_count": 37,
   "id": "5888f713",
   "metadata": {},
   "outputs": [],
   "source": [
    "import chart_studio.plotly as iplot"
   ]
  },
  {
   "cell_type": "code",
   "execution_count": 36,
   "id": "584abd5f",
   "metadata": {},
   "outputs": [
    {
     "name": "stdout",
     "output_type": "stream",
     "text": [
      "Collecting chart-studio\n",
      "  Downloading chart_studio-1.1.0-py3-none-any.whl (64 kB)\n",
      "     -------------------------------------- 64.4/64.4 kB 433.4 kB/s eta 0:00:00\n",
      "Requirement already satisfied: plotly in c:\\users\\yahya\\anaconda3\\lib\\site-packages (from chart-studio) (5.9.0)\n",
      "Collecting retrying>=1.3.3\n",
      "  Downloading retrying-1.3.4-py3-none-any.whl (11 kB)\n",
      "Requirement already satisfied: six in c:\\users\\yahya\\anaconda3\\lib\\site-packages (from chart-studio) (1.16.0)\n",
      "Requirement already satisfied: requests in c:\\users\\yahya\\anaconda3\\lib\\site-packages (from chart-studio) (2.28.1)\n",
      "Requirement already satisfied: tenacity>=6.2.0 in c:\\users\\yahya\\anaconda3\\lib\\site-packages (from plotly->chart-studio) (8.0.1)\n",
      "Requirement already satisfied: charset-normalizer<3,>=2 in c:\\users\\yahya\\anaconda3\\lib\\site-packages (from requests->chart-studio) (2.0.4)\n",
      "Requirement already satisfied: urllib3<1.27,>=1.21.1 in c:\\users\\yahya\\anaconda3\\lib\\site-packages (from requests->chart-studio) (1.26.11)\n",
      "Requirement already satisfied: certifi>=2017.4.17 in c:\\users\\yahya\\anaconda3\\lib\\site-packages (from requests->chart-studio) (2022.9.14)\n",
      "Requirement already satisfied: idna<4,>=2.5 in c:\\users\\yahya\\anaconda3\\lib\\site-packages (from requests->chart-studio) (3.3)\n",
      "Installing collected packages: retrying, chart-studio\n",
      "Successfully installed chart-studio-1.1.0 retrying-1.3.4\n",
      "Note: you may need to restart the kernel to use updated packages.\n"
     ]
    }
   ],
   "source": [
    "pip install chart-studio\n"
   ]
  },
  {
   "cell_type": "code",
   "execution_count": 41,
   "id": "f4110284",
   "metadata": {},
   "outputs": [
    {
     "data": {
      "text/html": [
       "        <script type=\"text/javascript\">\n",
       "        window.PlotlyConfig = {MathJaxConfig: 'local'};\n",
       "        if (window.MathJax && window.MathJax.Hub && window.MathJax.Hub.Config) {window.MathJax.Hub.Config({SVG: {font: \"STIX-Web\"}});}\n",
       "        if (typeof require !== 'undefined') {\n",
       "        require.undef(\"plotly\");\n",
       "        requirejs.config({\n",
       "            paths: {\n",
       "                'plotly': ['https://cdn.plot.ly/plotly-2.12.1.min']\n",
       "            }\n",
       "        });\n",
       "        require(['plotly'], function(Plotly) {\n",
       "            window._Plotly = Plotly;\n",
       "        });\n",
       "        }\n",
       "        </script>\n",
       "        "
      ]
     },
     "metadata": {},
     "output_type": "display_data"
    }
   ],
   "source": [
    " \n",
    "init_notebook_mode(connected=True)"
   ]
  },
  {
   "cell_type": "code",
   "execution_count": 42,
   "id": "87a93319",
   "metadata": {},
   "outputs": [
    {
     "ename": "SyntaxError",
     "evalue": "unexpected EOF while parsing (2817162814.py, line 2)",
     "output_type": "error",
     "traceback": [
      "\u001b[1;36m  File \u001b[1;32m\"C:\\Users\\yahya\\AppData\\Local\\Temp\\ipykernel_8584\\2817162814.py\"\u001b[1;36m, line \u001b[1;32m2\u001b[0m\n\u001b[1;33m    yTitle='count', title='Claps Distribution'\u001b[0m\n\u001b[1;37m                                              ^\u001b[0m\n\u001b[1;31mSyntaxError\u001b[0m\u001b[1;31m:\u001b[0m unexpected EOF while parsing\n"
     ]
    }
   ],
   "source": [
    "R1['score'].iplot(kind='hist', xTitle='claps',\n",
    "                  yTitle='count', title='Claps Distribution'"
   ]
  },
  {
   "cell_type": "code",
   "execution_count": 43,
   "id": "17bf2d72",
   "metadata": {},
   "outputs": [
    {
     "ename": "ModuleNotFoundError",
     "evalue": "No module named 'cufflinks'",
     "output_type": "error",
     "traceback": [
      "\u001b[1;31m---------------------------------------------------------------------------\u001b[0m",
      "\u001b[1;31mModuleNotFoundError\u001b[0m                       Traceback (most recent call last)",
      "\u001b[1;32m~\\AppData\\Local\\Temp\\ipykernel_8584\\189640202.py\u001b[0m in \u001b[0;36m<module>\u001b[1;34m\u001b[0m\n\u001b[1;32m----> 1\u001b[1;33m \u001b[1;32mimport\u001b[0m \u001b[0mcufflinks\u001b[0m \u001b[1;32mas\u001b[0m \u001b[0mcf\u001b[0m\u001b[1;33m\u001b[0m\u001b[1;33m\u001b[0m\u001b[0m\n\u001b[0m",
      "\u001b[1;31mModuleNotFoundError\u001b[0m: No module named 'cufflinks'"
     ]
    }
   ],
   "source": [
    "import cufflinks as cf"
   ]
  },
  {
   "cell_type": "code",
   "execution_count": 44,
   "id": "49f897af",
   "metadata": {},
   "outputs": [
    {
     "ename": "NameError",
     "evalue": "name 'cf' is not defined",
     "output_type": "error",
     "traceback": [
      "\u001b[1;31m---------------------------------------------------------------------------\u001b[0m",
      "\u001b[1;31mNameError\u001b[0m                                 Traceback (most recent call last)",
      "\u001b[1;32m~\\AppData\\Local\\Temp\\ipykernel_8584\\2446349587.py\u001b[0m in \u001b[0;36m<module>\u001b[1;34m\u001b[0m\n\u001b[1;32m----> 1\u001b[1;33m \u001b[0mcf\u001b[0m\u001b[1;33m.\u001b[0m\u001b[0mgo_offline\u001b[0m\u001b[1;33m(\u001b[0m\u001b[1;33m)\u001b[0m\u001b[1;33m\u001b[0m\u001b[1;33m\u001b[0m\u001b[0m\n\u001b[0m",
      "\u001b[1;31mNameError\u001b[0m: name 'cf' is not defined"
     ]
    }
   ],
   "source": [
    "cf.go_offline()"
   ]
  },
  {
   "cell_type": "code",
   "execution_count": 48,
   "id": "dbdf8a2a",
   "metadata": {},
   "outputs": [
    {
     "ename": "AttributeError",
     "evalue": "'DataFrame' object has no attribute 'iplot'",
     "output_type": "error",
     "traceback": [
      "\u001b[1;31m---------------------------------------------------------------------------\u001b[0m",
      "\u001b[1;31mAttributeError\u001b[0m                            Traceback (most recent call last)",
      "\u001b[1;32m~\\AppData\\Local\\Temp\\ipykernel_8584\\309725855.py\u001b[0m in \u001b[0;36m<module>\u001b[1;34m\u001b[0m\n\u001b[1;32m----> 1\u001b[1;33m NR[['score', 'Time']].iplot( kind='hist',\n\u001b[0m\u001b[0;32m      2\u001b[0m     \u001b[0mhistnorm\u001b[0m\u001b[1;33m=\u001b[0m\u001b[1;34m'percent'\u001b[0m\u001b[1;33m,\u001b[0m\u001b[1;33m\u001b[0m\u001b[1;33m\u001b[0m\u001b[0m\n\u001b[0;32m      3\u001b[0m     \u001b[0mbarmode\u001b[0m\u001b[1;33m=\u001b[0m\u001b[1;34m'overlay'\u001b[0m\u001b[1;33m,\u001b[0m\u001b[1;33m\u001b[0m\u001b[1;33m\u001b[0m\u001b[0m\n\u001b[0;32m      4\u001b[0m     \u001b[0mxTitle\u001b[0m\u001b[1;33m=\u001b[0m\u001b[1;34m'Time of Day'\u001b[0m\u001b[1;33m,\u001b[0m\u001b[1;33m\u001b[0m\u001b[1;33m\u001b[0m\u001b[0m\n\u001b[0;32m      5\u001b[0m     \u001b[0myTitle\u001b[0m\u001b[1;33m=\u001b[0m\u001b[1;34m'(%) of Articles'\u001b[0m\u001b[1;33m,\u001b[0m\u001b[1;33m\u001b[0m\u001b[1;33m\u001b[0m\u001b[0m\n",
      "\u001b[1;32m~\\anaconda3\\lib\\site-packages\\pandas\\core\\generic.py\u001b[0m in \u001b[0;36m__getattr__\u001b[1;34m(self, name)\u001b[0m\n\u001b[0;32m   5573\u001b[0m         ):\n\u001b[0;32m   5574\u001b[0m             \u001b[1;32mreturn\u001b[0m \u001b[0mself\u001b[0m\u001b[1;33m[\u001b[0m\u001b[0mname\u001b[0m\u001b[1;33m]\u001b[0m\u001b[1;33m\u001b[0m\u001b[1;33m\u001b[0m\u001b[0m\n\u001b[1;32m-> 5575\u001b[1;33m         \u001b[1;32mreturn\u001b[0m \u001b[0mobject\u001b[0m\u001b[1;33m.\u001b[0m\u001b[0m__getattribute__\u001b[0m\u001b[1;33m(\u001b[0m\u001b[0mself\u001b[0m\u001b[1;33m,\u001b[0m \u001b[0mname\u001b[0m\u001b[1;33m)\u001b[0m\u001b[1;33m\u001b[0m\u001b[1;33m\u001b[0m\u001b[0m\n\u001b[0m\u001b[0;32m   5576\u001b[0m \u001b[1;33m\u001b[0m\u001b[0m\n\u001b[0;32m   5577\u001b[0m     \u001b[1;32mdef\u001b[0m \u001b[0m__setattr__\u001b[0m\u001b[1;33m(\u001b[0m\u001b[0mself\u001b[0m\u001b[1;33m,\u001b[0m \u001b[0mname\u001b[0m\u001b[1;33m:\u001b[0m \u001b[0mstr\u001b[0m\u001b[1;33m,\u001b[0m \u001b[0mvalue\u001b[0m\u001b[1;33m)\u001b[0m \u001b[1;33m->\u001b[0m \u001b[1;32mNone\u001b[0m\u001b[1;33m:\u001b[0m\u001b[1;33m\u001b[0m\u001b[1;33m\u001b[0m\u001b[0m\n",
      "\u001b[1;31mAttributeError\u001b[0m: 'DataFrame' object has no attribute 'iplot'"
     ]
    }
   ],
   "source": [
    "NR[['score', 'Time']].iplot( kind='hist',\n",
    "    histnorm='percent',\n",
    "    barmode='overlay',\n",
    "    xTitle='Time of Day',\n",
    "    yTitle='(%) of Articles',\n",
    "    title='Time Started and Time Published')"
   ]
  },
  {
   "cell_type": "code",
   "execution_count": 47,
   "id": "5f4c2fb9",
   "metadata": {},
   "outputs": [],
   "source": [
    "import chart_studio.plotly as iplot"
   ]
  },
  {
   "cell_type": "code",
   "execution_count": null,
   "id": "93a6ccc1",
   "metadata": {},
   "outputs": [],
   "source": []
  }
 ],
 "metadata": {
  "kernelspec": {
   "display_name": "Python 3 (ipykernel)",
   "language": "python",
   "name": "python3"
  },
  "language_info": {
   "codemirror_mode": {
    "name": "ipython",
    "version": 3
   },
   "file_extension": ".py",
   "mimetype": "text/x-python",
   "name": "python",
   "nbconvert_exporter": "python",
   "pygments_lexer": "ipython3",
   "version": "3.9.13"
  }
 },
 "nbformat": 4,
 "nbformat_minor": 5
}
